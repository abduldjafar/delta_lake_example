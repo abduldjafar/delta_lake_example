{
 "cells": [
  {
   "cell_type": "code",
   "execution_count": 1,
   "id": "ab510046",
   "metadata": {},
   "outputs": [
    {
     "name": "stderr",
     "output_type": "stream",
     "text": [
      "WARNING: An illegal reflective access operation has occurred\n",
      "WARNING: Illegal reflective access by org.apache.spark.unsafe.Platform (file:/Users/kotekaman/Documents/private/belajar/apache_spark/3.1.2/jars/spark-unsafe_2.12-3.1.2.jar) to constructor java.nio.DirectByteBuffer(long,int)\n",
      "WARNING: Please consider reporting this to the maintainers of org.apache.spark.unsafe.Platform\n",
      "WARNING: Use --illegal-access=warn to enable warnings of further illegal reflective access operations\n",
      "WARNING: All illegal access operations will be denied in a future release\n",
      "Ivy Default Cache set to: /Users/kotekaman/.ivy2/cache\n",
      "The jars for the packages stored in: /Users/kotekaman/.ivy2/jars\n",
      "io.delta#delta-core_2.12 added as a dependency\n",
      ":: resolving dependencies :: org.apache.spark#spark-submit-parent-ec8238c8-1dfd-4571-9bab-b761768dc92b;1.0\n",
      "\tconfs: [default]\n"
     ]
    },
    {
     "name": "stdout",
     "output_type": "stream",
     "text": [
      ":: loading settings :: url = jar:file:/Users/kotekaman/Documents/private/belajar/apache_spark/3.1.2/jars/ivy-2.4.0.jar!/org/apache/ivy/core/settings/ivysettings.xml\n"
     ]
    },
    {
     "name": "stderr",
     "output_type": "stream",
     "text": [
      "\tfound io.delta#delta-core_2.12;1.0.0 in central\n",
      "\tfound org.antlr#antlr4;4.7 in central\n",
      "\tfound org.antlr#antlr4-runtime;4.7 in central\n",
      "\tfound org.antlr#antlr-runtime;3.5.2 in central\n",
      "\tfound org.antlr#ST4;4.0.8 in central\n",
      "\tfound org.abego.treelayout#org.abego.treelayout.core;1.0.3 in central\n",
      "\tfound org.glassfish#javax.json;1.0.4 in central\n",
      "\tfound com.ibm.icu#icu4j;58.2 in central\n",
      ":: resolution report :: resolve 141ms :: artifacts dl 4ms\n",
      "\t:: modules in use:\n",
      "\tcom.ibm.icu#icu4j;58.2 from central in [default]\n",
      "\tio.delta#delta-core_2.12;1.0.0 from central in [default]\n",
      "\torg.abego.treelayout#org.abego.treelayout.core;1.0.3 from central in [default]\n",
      "\torg.antlr#ST4;4.0.8 from central in [default]\n",
      "\torg.antlr#antlr-runtime;3.5.2 from central in [default]\n",
      "\torg.antlr#antlr4;4.7 from central in [default]\n",
      "\torg.antlr#antlr4-runtime;4.7 from central in [default]\n",
      "\torg.glassfish#javax.json;1.0.4 from central in [default]\n",
      "\t---------------------------------------------------------------------\n",
      "\t|                  |            modules            ||   artifacts   |\n",
      "\t|       conf       | number| search|dwnlded|evicted|| number|dwnlded|\n",
      "\t---------------------------------------------------------------------\n",
      "\t|      default     |   8   |   0   |   0   |   0   ||   8   |   0   |\n",
      "\t---------------------------------------------------------------------\n",
      ":: retrieving :: org.apache.spark#spark-submit-parent-ec8238c8-1dfd-4571-9bab-b761768dc92b\n",
      "\tconfs: [default]\n",
      "\t0 artifacts copied, 8 already retrieved (0kB/3ms)\n",
      "21/10/16 05:21:06 WARN NativeCodeLoader: Unable to load native-hadoop library for your platform... using builtin-java classes where applicable\n",
      "Using Spark's default log4j profile: org/apache/spark/log4j-defaults.properties\n",
      "Setting default log level to \"WARN\".\n",
      "To adjust logging level use sc.setLogLevel(newLevel). For SparkR, use setLogLevel(newLevel).\n"
     ]
    }
   ],
   "source": [
    "from delta import *\n",
    "import pyspark\n",
    "\n",
    "builder = pyspark.sql.SparkSession.builder.appName(\"MyApp\") \\\n",
    "    .config(\"spark.sql.extensions\", \"io.delta.sql.DeltaSparkSessionExtension\") \\\n",
    "    .config(\"spark.jars\",\"/opt/spark/jars/gcs-connector-hadoop2-latest.jar\") \\\n",
    "    .config(\"spark.jars\",\"/opt/spark/jars/delta-contribs_2.12-1.0.0.jar\") \\\n",
    "    .config(\"spark.delta.logStore.gs.impl\",\"io.delta.storage.GCSLogStore\")\n",
    "\n",
    "spark = spark = configure_spark_with_delta_pip(builder).getOrCreate()"
   ]
  },
  {
   "cell_type": "code",
   "execution_count": 2,
   "id": "16c42c5f",
   "metadata": {},
   "outputs": [
    {
     "name": "stderr",
     "output_type": "stream",
     "text": [
      "21/10/16 05:21:10 WARN package: Truncated the string representation of a plan since it was too large. This behavior can be adjusted by setting 'spark.sql.debug.maxToStringFields'.\n",
      "                                                                                \r"
     ]
    },
    {
     "name": "stdout",
     "output_type": "stream",
     "text": [
      "table already save in gcs\n"
     ]
    }
   ],
   "source": [
    "data = spark.read.option(\"header\",True).option(\"quote\", \"\\\"\").option(\"escape\", \"\\\"\").option(\"multiLine\", True).csv(\"Sample_data_analyst.csv\")\n",
    "datas = None\n",
    "try:\n",
    "    data.write.format(\"delta\").save(\"gs://spark_data_lake/Sample_data_analyst_table\")\n",
    "    datas = spark.read.format(\"delta\").load(\"gs://spark_data_lake/Sample_data_analyst_table\")\n",
    "except:\n",
    "    print(\"table already save in gcs\")\n",
    "    datas = spark.read.format(\"delta\").load(\"gs://spark_data_lake/Sample_data_analyst_table\")"
   ]
  },
  {
   "cell_type": "code",
   "execution_count": 23,
   "id": "79a101ce",
   "metadata": {},
   "outputs": [
    {
     "name": "stdout",
     "output_type": "stream",
     "text": [
      "root\n",
      " |-- device_id: string (nullable = true)\n",
      " |-- origin_geo: string (nullable = true)\n",
      " |-- destinatio: string (nullable = true)\n",
      " |-- origin_lat: string (nullable = true)\n",
      " |-- origin_lon: string (nullable = true)\n",
      " |-- destinat_1: string (nullable = true)\n",
      " |-- destinat_2: string (nullable = true)\n",
      " |-- start_time: string (nullable = true)\n",
      " |-- end_timest: string (nullable = true)\n",
      " |-- ORI_PROVIN: string (nullable = true)\n",
      " |-- ORI_KABKOT: string (nullable = true)\n",
      " |-- ORI_KECAMA: string (nullable = true)\n",
      " |-- ORI_DESA: string (nullable = true)\n",
      " |-- ORI_IDEQ_M: string (nullable = true)\n",
      " |-- DES_PROVIN: string (nullable = true)\n",
      " |-- DES_KABKOT: string (nullable = true)\n",
      " |-- DES_KECAMA: string (nullable = true)\n",
      " |-- DES_DESA: string (nullable = true)\n",
      " |-- DISTANCE_K: string (nullable = true)\n",
      " |-- DURATION: string (nullable = true)\n",
      " |-- ID_UML: string (nullable = true)\n",
      " |-- EQMILLID: string (nullable = true)\n",
      " |-- Mill_name: string (nullable = true)\n",
      " |-- Mill_company: string (nullable = true)\n",
      " |-- Mill_group: string (nullable = true)\n",
      " |-- Mill_source: string (nullable = true)\n",
      " |-- Mill_Lat: string (nullable = true)\n",
      " |-- Mill_Long: string (nullable = true)\n",
      " |-- Mill_Addr: string (nullable = true)\n",
      " |-- Mill_country: string (nullable = true)\n",
      " |-- Mill_Province: string (nullable = true)\n",
      " |-- Mill_District: string (nullable = true)\n",
      " |-- Mill_Type: string (nullable = true)\n",
      " |-- Mill_Type_2: string (nullable = true)\n",
      " |-- Estate_Fac: string (nullable = true)\n",
      " |-- Mill_capacity: string (nullable = true)\n",
      " |-- FFB_Prod: string (nullable = true)\n",
      " |-- CPO_Prod: string (nullable = true)\n",
      " |-- PKO_Prod: string (nullable = true)\n",
      " |-- RSPO_Certi: string (nullable = true)\n",
      " |-- Other_Cert: string (nullable = true)\n",
      " |-- Plantation_group: string (nullable = true)\n",
      " |-- ID_Group: string (nullable = true)\n",
      " |-- Concession: string (nullable = true)\n",
      " |-- ID_Concess: string (nullable = true)\n",
      " |-- Estates: string (nullable = true)\n",
      " |-- ID_Estates: string (nullable = true)\n",
      " |-- Concession_District_: string (nullable = true)\n",
      " |-- Concession_Province: string (nullable = true)\n",
      " |-- Concession_Country: string (nullable = true)\n",
      " |-- Concession_Source: string (nullable = true)\n",
      " |-- Certificat: string (nullable = true)\n",
      " |-- Area: string (nullable = true)\n",
      "\n"
     ]
    }
   ],
   "source": [
    "datas.printSchema()"
   ]
  },
  {
   "cell_type": "code",
   "execution_count": 4,
   "id": "b55a2249",
   "metadata": {},
   "outputs": [
    {
     "name": "stderr",
     "output_type": "stream",
     "text": [
      "\r",
      "[Stage 9:>                                                          (0 + 1) / 1]\r"
     ]
    },
    {
     "name": "stdout",
     "output_type": "stream",
     "text": [
      "+--------------------+----------+----------+----------+----------+-----------+--------------------+\n",
      "|           device_id|origin_lat|origin_lon|destinat_1|destinat_2| DISTANCE_K|   Concession_Source|\n",
      "+--------------------+----------+----------+----------+----------+-----------+--------------------+\n",
      "|NnRuZ29wN2gwbGFxO...|  2.900648| 99.515018|  2.900476| 99.515018|0.019019264|                null|\n",
      "|NnRxYXZyZTFlMW8zN...|  2.702036| 99.569263|  2.702723| 99.570293|0.137435591|                null|\n",
      "|ODlsOTRlY2hwNWVqd...|  3.584719| 98.662891|  2.701349| 99.625912|144.9120751|                null|\n",
      "|MTN0M2duNXNlN3I5c...|  0.035963|103.189259|  0.054159|103.207111|2.827975251|                RSPO|\n",
      "|MTNrYTVscjZ2OXRnM...|  2.702208| 99.609089|  2.701521| 99.625225|1.795875251|                null|\n",
      "|MTNrYTVscjZ2OXRnM...|  2.702208| 99.609089|  2.701521| 99.625225|1.795875251|                null|\n",
      "|MTNrYTVscjZ2OXRnM...|  2.733965| 99.628658|  2.701521| 99.625225| 3.60780474|                RSPO|\n",
      "|a2E1bjNwaThsY2x1O...|  2.575865| 99.638958|  2.710276| 99.619732|15.01569979|                null|\n",
      "|a2E1bjNwaThsY2x1O...|  2.648821| 99.634495|  2.710276| 99.619732|6.990967973|Socfin Traceabili...|\n",
      "|MmhhYW5kZ2I0djI4M...|  0.180159|103.117504|  0.222559|103.165569|7.113992238|                 KPN|\n",
      "|Mm5nc21yY2NsbjVkO...|  2.701006| 99.620075|  2.701006| 99.620419|0.038251646|                null|\n",
      "|MTMyZ2w4OWd1b2lkN...|  2.748556|  99.47176|  2.748728|  99.47176|0.019019215|                RSPO|\n",
      "|MTMyZ2w4OWd1b2lkN...|  2.748728|  99.47176|  2.748556|  99.47176|0.019019215|                RSPO|\n",
      "|MTMyZ2w4OWd1b2lkN...|  2.748556|  99.47176|  2.748728|  99.47176|0.019019215|                RSPO|\n",
      "|MTMyZ2w4OWd1b2lkN...|  2.748728|  99.47176|  2.748556|  99.47176|0.019019215|                RSPO|\n",
      "|MTMyZ2w4OWd1b2lkN...|  2.748556|  99.47176|  2.748728|  99.47176|0.019019215|                RSPO|\n",
      "|MTMyZ2w4OWd1b2lkN...|  2.748728|  99.47176|  2.748556|  99.47176|0.019019215|                RSPO|\n",
      "|MTMyZ2w4OWd1b2lkN...|  2.748556|  99.47176|  2.748728|  99.47176|0.019019215|                RSPO|\n",
      "|MTMyZ2w4OWd1b2lkN...|  2.748728|  99.47176|  2.748556|  99.47176|0.019019215|                RSPO|\n",
      "|MTMyZ2w4OWd1b2lkN...|  2.748556|  99.47176|  2.748728|  99.47176|0.019019215|                RSPO|\n",
      "+--------------------+----------+----------+----------+----------+-----------+--------------------+\n",
      "only showing top 20 rows\n",
      "\n"
     ]
    },
    {
     "name": "stderr",
     "output_type": "stream",
     "text": [
      "\r",
      "                                                                                \r"
     ]
    }
   ],
   "source": [
    "datas.select(\"device_id\",\"origin_lat\",\"origin_lon\",\"destinat_1\",\"destinat_2\",\"DISTANCE_K\",\"Concession_Source\").show()"
   ]
  },
  {
   "cell_type": "code",
   "execution_count": null,
   "id": "214617fa",
   "metadata": {},
   "outputs": [],
   "source": []
  }
 ],
 "metadata": {
  "kernelspec": {
   "display_name": "Python 3 (ipykernel)",
   "language": "python",
   "name": "python3"
  },
  "language_info": {
   "codemirror_mode": {
    "name": "ipython",
    "version": 3
   },
   "file_extension": ".py",
   "mimetype": "text/x-python",
   "name": "python",
   "nbconvert_exporter": "python",
   "pygments_lexer": "ipython3",
   "version": "3.8.2"
  }
 },
 "nbformat": 4,
 "nbformat_minor": 5
}
